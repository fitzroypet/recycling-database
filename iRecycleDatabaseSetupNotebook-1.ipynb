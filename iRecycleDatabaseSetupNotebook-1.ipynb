{
    "metadata": {
        "kernelspec": {
            "name": "SQL",
            "display_name": "SQL",
            "language": "sql"
        },
        "language_info": {
            "name": "sql",
            "version": ""
        }
    },
    "nbformat_minor": 2,
    "nbformat": 4,
    "cells": [
        {
            "cell_type": "markdown",
            "source": [
                "## 0\\. Create recycling database schema"
            ],
            "metadata": {
                "language": "sql",
                "azdata_cell_guid": "69c7a2cf-be32-4836-a5ec-29868461a320"
            },
            "attachments": {}
        },
        {
            "cell_type": "code",
            "source": [
                "-- Create schema for better organization\n",
                "CREATE SCHEMA recycling;\n",
                "GO "
            ],
            "metadata": {
                "language": "sql",
                "azdata_cell_guid": "afc53527-8d42-4f11-9771-c84256c0e033"
            },
            "outputs": [
                {
                    "output_type": "error",
                    "evalue": "Msg 2714, Level 16, State 6, Line 2\nThere is already an object named 'recycling' in the database.",
                    "ename": "",
                    "traceback": []
                },
                {
                    "output_type": "error",
                    "evalue": "Msg 2759, Level 16, State 0, Line 2\nCREATE SCHEMA failed due to previous errors.",
                    "ename": "",
                    "traceback": []
                },
                {
                    "output_type": "display_data",
                    "data": {
                        "text/html": "Total execution time: 00:00:03.479"
                    },
                    "metadata": {}
                }
            ],
            "execution_count": 12
        },
        {
            "cell_type": "markdown",
            "source": [
                "## 1\\. Create recycling business table"
            ],
            "metadata": {
                "azdata_cell_guid": "19785c4a-6d19-447e-9222-4f02f673724f"
            },
            "attachments": {}
        },
        {
            "cell_type": "code",
            "source": [
                "CREATE TABLE recycling.Businesses (\n",
                "    BusinessID INT IDENTITY(1,1) PRIMARY KEY,\n",
                "    Name NVARCHAR(255) NOT NULL,\n",
                "    FormattedAddress NVARCHAR(500) NOT NULL,\n",
                "    Latitude DECIMAL(10, 8),\n",
                "    Longitude DECIMAL(11, 8),\n",
                "    PhoneNumber NVARCHAR(50),\n",
                "    Website NVARCHAR(500),\n",
                "    Rating DECIMAL(3, 2),\n",
                "    PlaceID NVARCHAR(255),  -- Google Places ID\n",
                "    DateAdded DATETIME2 DEFAULT SYSUTCDATETIME(),\n",
                "    LastUpdated DATETIME2 DEFAULT SYSUTCDATETIME(),\n",
                "    IsActive BIT DEFAULT 1,\n",
                "    DeletedAt DATETIME2 NULL,\n",
                "    DeletedBy NVARCHAR(128) NULL,\n",
                "    SearchVector NVARCHAR(MAX), -- For full-text search\n",
                "    ServiceKeywords NVARCHAR(MAX) -- JSON array of keywords\n",
                ");\n",
                "\n",
                "-- Create indexes for better search performance\n",
                "CREATE INDEX IX_Businesses_Location ON recycling.Businesses(Latitude, Longitude);\n",
                "CREATE INDEX IX_Businesses_Name ON recycling.Businesses(Name); "
            ],
            "metadata": {
                "azdata_cell_guid": "1e32c748-c2b6-49ab-a1df-db8b1c4e8d56",
                "language": "sql"
            },
            "outputs": [
                {
                    "output_type": "display_data",
                    "data": {
                        "text/html": "Commands completed successfully."
                    },
                    "metadata": {}
                },
                {
                    "output_type": "display_data",
                    "data": {
                        "text/html": "Total execution time: 00:00:00.049"
                    },
                    "metadata": {}
                }
            ],
            "execution_count": 13
        },
        {
            "cell_type": "code",
            "source": [
                "CREATE TABLE recycling.BusinessServices (\n",
                "    ServiceID INT IDENTITY(1,1) PRIMARY KEY,\n",
                "    BusinessID INT FOREIGN KEY REFERENCES recycling.Businesses(BusinessID),\n",
                "    ServiceName NVARCHAR(100) NOT NULL,\n",
                "    Description NVARCHAR(500),\n",
                "    IsBookingEnabled BIT DEFAULT 0,\n",
                "    PriceInfo NVARCHAR(MAX), -- JSON field for flexible pricing structure\n",
                "    CreatedDate DATETIME2 DEFAULT SYSUTCDATETIME(),\n",
                "    ModifiedDate DATETIME2 DEFAULT SYSUTCDATETIME()\n",
                "); \n",
                "\n",
                "-- Create an index for the BusinessServices table\n",
                "CREATE INDEX IX_BusinessServices_BusinessID ON recycling.BusinessServices(BusinessID);"
            ],
            "metadata": {
                "language": "sql",
                "azdata_cell_guid": "2631cd3d-2c1f-4df5-942f-bd42464ced3c"
            },
            "outputs": [
                {
                    "output_type": "display_data",
                    "data": {
                        "text/html": "Commands completed successfully."
                    },
                    "metadata": {}
                },
                {
                    "output_type": "display_data",
                    "data": {
                        "text/html": "Total execution time: 00:00:00.035"
                    },
                    "metadata": {}
                }
            ],
            "execution_count": 14
        },
        {
            "cell_type": "markdown",
            "source": [
                "## 2\\. Create recycling business hours table"
            ],
            "metadata": {
                "language": "sql",
                "azdata_cell_guid": "a7a0cf72-b4e1-4441-a18f-59be87f18f3e"
            },
            "attachments": {}
        },
        {
            "cell_type": "code",
            "source": [
                "CREATE TABLE recycling.BusinessHours (\n",
                "    HoursID INT IDENTITY(1,1) PRIMARY KEY,\n",
                "    BusinessID INT FOREIGN KEY REFERENCES recycling.Businesses(BusinessID),\n",
                "    DayOfWeek TINYINT,  -- 0 = Sunday, 1 = Monday, etc.\n",
                "    OpenTime TIME,\n",
                "    CloseTime TIME,\n",
                "    IsClosed BIT DEFAULT 0\n",
                ");\n",
                "\n",
                "-- Create an index for the BusinessHours table\n",
                "CREATE INDEX IX_BusinessHours_BusinessID ON recycling.BusinessHours(BusinessID);"
            ],
            "metadata": {
                "language": "sql",
                "azdata_cell_guid": "b99b608a-509a-4cf6-bde9-82e3ee80d6bb"
            },
            "outputs": [
                {
                    "output_type": "display_data",
                    "data": {
                        "text/html": "Commands completed successfully."
                    },
                    "metadata": {}
                },
                {
                    "output_type": "display_data",
                    "data": {
                        "text/html": "Total execution time: 00:00:00.032"
                    },
                    "metadata": {}
                }
            ],
            "execution_count": 15
        },
        {
            "cell_type": "markdown",
            "source": [
                "## 3\\. Create material table"
            ],
            "metadata": {
                "language": "sql",
                "azdata_cell_guid": "af269b92-a45a-4560-ba5d-5344636e8e75"
            },
            "attachments": {}
        },
        {
            "cell_type": "code",
            "source": [
                "CREATE TABLE recycling.Materials (\n",
                "    MaterialID INT IDENTITY(1,1) PRIMARY KEY,\n",
                "    CategoryName NVARCHAR(50), -- e.g., 'plastic', 'metal', etc.\n",
                "    Description NVARCHAR(500), -- Description of the material\n",
                "    CO2Savings DECIMAL(10, 2)  -- CO2 savings per kg\n",
                "    CONSTRAINT UQ_Description UNIQUE (Description)\n",
                "); "
            ],
            "metadata": {
                "language": "sql",
                "azdata_cell_guid": "b811cbda-c4cd-445f-8b2d-93ef782f687d"
            },
            "outputs": [
                {
                    "output_type": "display_data",
                    "data": {
                        "text/html": "Commands completed successfully."
                    },
                    "metadata": {}
                },
                {
                    "output_type": "display_data",
                    "data": {
                        "text/html": "Total execution time: 00:00:00.028"
                    },
                    "metadata": {}
                }
            ],
            "execution_count": 16
        },
        {
            "cell_type": "markdown",
            "source": [
                "## 4\\. Create recycling business materials table"
            ],
            "metadata": {
                "language": "sql",
                "azdata_cell_guid": "aa123819-aba3-4405-b2bc-9e6a28e14c7b"
            },
            "attachments": {}
        },
        {
            "cell_type": "code",
            "source": [
                "CREATE TABLE recycling.BusinessMaterials (\n",
                "    BusinessID INT,\n",
                "    MaterialID INT,\n",
                "    CategoryName NVARCHAR(50),\n",
                "    Description NVARCHAR(500),\n",
                "    IsVerified BIT DEFAULT 0,\n",
                "    VerificationSource NVARCHAR(50),\n",
                "    DateVerified DATETIME2,\n",
                "    PRIMARY KEY (BusinessID, MaterialID),\n",
                "    FOREIGN KEY (BusinessID) REFERENCES recycling.Businesses(BusinessID),\n",
                "    FOREIGN KEY (MaterialID) REFERENCES recycling.Materials(MaterialID)\n",
                ");\n",
                "\n",
                "-- Create additional index for the BusinessMaterials table\n",
                "CREATE INDEX IX_BusinessMaterials_BusinessID ON recycling.BusinessMaterials(BusinessID);\n",
                "CREATE INDEX IX_BusinessMaterials_CategoryName ON recycling.Materials(CategoryName);"
            ],
            "metadata": {
                "language": "sql",
                "azdata_cell_guid": "7c5fb28e-3616-414e-ae14-b151e4b7a61d",
                "tags": []
            },
            "outputs": [
                {
                    "output_type": "display_data",
                    "data": {
                        "text/html": "Commands completed successfully."
                    },
                    "metadata": {}
                },
                {
                    "output_type": "display_data",
                    "data": {
                        "text/html": "Total execution time: 00:00:00.042"
                    },
                    "metadata": {}
                }
            ],
            "execution_count": 17
        },
        {
            "cell_type": "markdown",
            "source": [
                "## 5\\. Create business account table"
            ],
            "metadata": {
                "language": "sql",
                "azdata_cell_guid": "231bcca8-01bf-451a-9a48-d715c78fb3fc"
            },
            "attachments": {}
        },
        {
            "cell_type": "code",
            "source": [
                "CREATE TABLE recycling.BusinessAccounts (\n",
                "    AccountID INT IDENTITY(1,1) PRIMARY KEY,\n",
                "    BusinessID INT UNIQUE FOREIGN KEY REFERENCES recycling.Businesses(BusinessID),\n",
                "    Email NVARCHAR(255) NOT NULL UNIQUE,\n",
                "    IsEmailVerified BIT DEFAULT 0,\n",
                "    VerificationDate DATETIME2,\n",
                "    LastLoginDate DATETIME2,\n",
                "    AccountStatus NVARCHAR(20) DEFAULT 'PENDING', -- PENDING, ACTIVE, SUSPENDED\n",
                "    CreatedDate DATETIME2 DEFAULT SYSUTCDATETIME(),\n",
                "    ModifiedDate DATETIME2 DEFAULT SYSUTCDATETIME()\n",
                "); \n",
                "\n",
                "-- Create an index for the BusinessAccounts table\n",
                "CREATE INDEX IX_BusinessAccounts_BusinessID ON recycling.BusinessAccounts(BusinessID);"
            ],
            "metadata": {
                "language": "sql",
                "azdata_cell_guid": "97b3de49-0be1-40e0-be29-1fe6ac9b63cb"
            },
            "outputs": [
                {
                    "output_type": "display_data",
                    "data": {
                        "text/html": "Commands completed successfully."
                    },
                    "metadata": {}
                },
                {
                    "output_type": "display_data",
                    "data": {
                        "text/html": "Total execution time: 00:00:00.036"
                    },
                    "metadata": {}
                }
            ],
            "execution_count": 18
        },
        {
            "cell_type": "markdown",
            "source": [
                "## 6\\. Create user table"
            ],
            "metadata": {
                "language": "sql",
                "azdata_cell_guid": "87647bce-8885-4423-8276-10682405f014"
            },
            "attachments": {}
        },
        {
            "cell_type": "markdown",
            "source": [
                ""
            ],
            "metadata": {
                "language": "sql",
                "azdata_cell_guid": "15c2936c-0d40-4056-981c-2373db449db7"
            }
        },
        {
            "cell_type": "code",
            "source": [
                "CREATE TABLE recycling.Users (\n",
                "    UserID INT IDENTITY(1,1) PRIMARY KEY,\n",
                "    Email NVARCHAR(255) NOT NULL UNIQUE,\n",
                "    PhoneNumber NVARCHAR(50),\n",
                "    FirstName NVARCHAR(100),\n",
                "    LastName NVARCHAR(100),\n",
                "    DefaultAddress NVARCHAR(500),\n",
                "    DefaultLatitude DECIMAL(10, 8),\n",
                "    DefaultLongitude DECIMAL(11, 8),\n",
                "    UserRole NVARCHAR(50), -- Residential, Commercial, Waste Picker\n",
                "    IsPhoneVerified BIT DEFAULT 0,\n",
                "    CreatedDate DATETIME2 DEFAULT SYSUTCDATETIME(),\n",
                "    ModifiedDate DATETIME2 DEFAULT SYSUTCDATETIME(),\n",
                "    IsActive BIT DEFAULT 1,\n",
                "    DeletedAt DATETIME2 NULL,\n",
                "    DeletedBy NVARCHAR(128) NULL\n",
                "); \n",
                "\n",
                "-- Create an index for the Users table\n",
                "CREATE INDEX IX_Users_Email ON recycling.Users(Email);"
            ],
            "metadata": {
                "language": "sql",
                "azdata_cell_guid": "6adb61a2-699b-4a5a-b514-db8c08398111"
            },
            "outputs": [
                {
                    "output_type": "display_data",
                    "data": {
                        "text/html": "Commands completed successfully."
                    },
                    "metadata": {}
                },
                {
                    "output_type": "display_data",
                    "data": {
                        "text/html": "Total execution time: 00:00:00.042"
                    },
                    "metadata": {}
                }
            ],
            "execution_count": 19
        },
        {
            "cell_type": "markdown",
            "source": [
                "## 7\\. Create user subscription table"
            ],
            "metadata": {
                "language": "sql",
                "azdata_cell_guid": "66b95d5e-9f1c-4d3c-9e28-2701537f8fcc"
            },
            "attachments": {}
        },
        {
            "cell_type": "code",
            "source": [
                "CREATE TABLE recycling.UserSubscriptions (\n",
                "    SubscriptionID INT IDENTITY(1,1) PRIMARY KEY,\n",
                "    UserID INT FOREIGN KEY REFERENCES recycling.Users(UserID),\n",
                "    BusinessID INT FOREIGN KEY REFERENCES recycling.Businesses(BusinessID),\n",
                "    NotificationsEnabled BIT DEFAULT 1,\n",
                "    SubscriptionDate DATETIME2 DEFAULT SYSUTCDATETIME(),\n",
                "    IsActive BIT DEFAULT 1,\n",
                "    DeletedAt DATETIME2 NULL,\n",
                "    DeletedBy NVARCHAR(128) NULL,\n",
                "    UNIQUE (UserID, BusinessID)\n",
                "); \n",
                "\n",
                "-- Create an index for the UserSubscriptions table\n",
                "CREATE INDEX IX_UserSubscriptions_UserID ON recycling.UserSubscriptions(UserID);\n",
                "CREATE INDEX IX_UserSubscriptions_BusinessID ON recycling.UserSubscriptions(BusinessID);"
            ],
            "metadata": {
                "language": "sql",
                "azdata_cell_guid": "c292ef60-3523-43f0-a5a3-f8412ffd1135"
            },
            "outputs": [
                {
                    "output_type": "display_data",
                    "data": {
                        "text/html": "Commands completed successfully."
                    },
                    "metadata": {}
                },
                {
                    "output_type": "display_data",
                    "data": {
                        "text/html": "Total execution time: 00:00:00.042"
                    },
                    "metadata": {}
                }
            ],
            "execution_count": 20
        },
        {
            "cell_type": "markdown",
            "source": [
                "## 8\\. Insert materials"
            ],
            "metadata": {
                "language": "sql",
                "azdata_cell_guid": "14b68413-a0f1-49d6-91e2-41ad558c8571"
            },
            "attachments": {}
        },
        {
            "cell_type": "code",
            "source": [
                "INSERT INTO recycling.Materials (CategoryName, Description, CO2Savings) VALUES\n",
                "('paper', 'Corrugated Containers', 5.58),\n",
                "('paper', 'Magazines/third-class mail', 8.57),\n",
                "('paper', 'Newspaper', 4.68),\n",
                "('paper', 'Office Paper', 7.95),\n",
                "('paper', 'Phonebooks', 6.17),\n",
                "('paper', 'Textbooks', 9.02),\n",
                "('paper', 'Mixed Paper (general)', 6.07),\n",
                "('paper', 'Mixed Paper (primarily)', 6.00),\n",
                "('paper', 'Mixed Paper (primarily from Food Waste)', 3.66),\n",
                "('organic', 'Food Waste (non-meat)', 0.76),\n",
                "('organic', 'Food Waste (meat only)', 15.1),\n",
                "('organic', 'Beef', 30.9),\n",
                "('organic', 'Poultry', 2.45),\n",
                "('organic', 'Grains', 0.62),\n",
                "('organic', 'Bread', 0.66),\n",
                "('organic', 'Fruits and Vegetables', 0.44),\n",
                "('organic', 'Dairy Products', 1.75),\n",
                "('plastic', 'HDPE', 1.42),\n",
                "('plastic', 'LDPE', 1.80),\n",
                "('plastic', 'PET', 2.17),\n",
                "('plastic', 'LLDPE', 1.58),\n",
                "('plastic', 'PP', 1.00), -- Adjust as necessary\n",
                "('plastic', 'PS', 2.50),\n",
                "('plastic', 'PVC', 1.93),\n",
                "('plastic', 'Mixed Plastics', 1.87),\n",
                "('plastic', 'PLA', 2.45),\n",
                "('electronics', 'Desktop CPUs', 20.80),\n",
                "('electronics', 'Portable Electronic Devices', 29.83),\n",
                "('electronics', 'Flat-Panel Displays', 24.19),\n",
                "('electronics', 'Electronic Peripherals', 10.32),\n",
                "('electronics', 'Hard-Copy Devices', 7.65),\n",
                "('electronics', 'Mixed Electronics', 20.79),\n",
                "('metal', 'Aluminum Cans', 4.80),\n",
                "('metal', 'Aluminum Ingot', 7.48),\n",
                "('metal', 'Steel Cans', 3.03),\n",
                "('metal', 'Copper Wire', 6.72),\n",
                "('metal', 'Mixed Metals', 3.65),\n",
                "('glass', 'Glass', 0.53),\n",
                "('construction', 'Asphalt Concrete', 0.19),\n",
                "('construction', 'Asphalt Shingles', 0.19),\n",
                "('construction', 'Carpet', 3.68),\n",
                "('construction', 'Clay Bricks', 0.27),\n",
                "('construction', 'Dimensional Lumber', 2.11),\n",
                "('construction', 'Drywall', 0.00), -- Adjust as necessary\n",
                "('construction', 'Fiberglass Insulation', 0.38),\n",
                "('construction', 'Medium-density Fiberboard', 3.05),\n",
                "('construction', 'Structural Steel', 1.67),\n",
                "('construction', 'Vinyl Flooring', 0.58),\n",
                "('construction', 'Wood Flooring', 4.11),\n",
                "('tires', 'Tires', 4.30);"
            ],
            "metadata": {
                "language": "sql",
                "azdata_cell_guid": "307959bd-3c78-468e-a00b-007c836511e8"
            },
            "outputs": [
                {
                    "output_type": "display_data",
                    "data": {
                        "text/html": "(50 rows affected)"
                    },
                    "metadata": {}
                },
                {
                    "output_type": "display_data",
                    "data": {
                        "text/html": "Total execution time: 00:00:00.043"
                    },
                    "metadata": {}
                }
            ],
            "execution_count": 21
        },
        {
            "cell_type": "markdown",
            "source": [
                "# DONT CREATE THESE TABLES YET!"
            ],
            "metadata": {
                "language": "sql",
                "azdata_cell_guid": "896df621-d91d-4920-b35c-a93dcb35f0de"
            },
            "attachments": {}
        },
        {
            "cell_type": "code",
            "source": [
                "CREATE TABLE recycling.CommunicationPreferences (\n",
                "    UserID INT PRIMARY KEY FOREIGN KEY REFERENCES recycling.Users(UserID),\n",
                "    EmailNotifications BIT DEFAULT 1,\n",
                "    PushNotifications BIT DEFAULT 0,\n",
                "    SMSNotifications BIT DEFAULT 0,\n",
                "    NotificationFrequency NVARCHAR(20) DEFAULT 'DAILY', -- Weekly, Monthly\n",
                "    PreferredChannels NVARCHAR(MAX) -- JSON array of preferred communication methods\n",
                "); "
            ],
            "metadata": {
                "language": "sql",
                "azdata_cell_guid": "49c51c3c-3ada-419d-bdc6-2078ea661d39"
            },
            "outputs": [],
            "execution_count": null
        },
        {
            "cell_type": "code",
            "source": [
                "CREATE TABLE recycling.RecyclingAlerts (\n",
                "    AlertID INT IDENTITY(1,1) PRIMARY KEY,\n",
                "    BusinessID INT FOREIGN KEY REFERENCES recycling.Businesses(BusinessID),\n",
                "    AlertType NVARCHAR(50), -- 'SCHEDULE_CHANGE', 'NEW_SERVICE', 'CONTAMINATION_FEEDBACK'\n",
                "    Title NVARCHAR(200),\n",
                "    Content NVARCHAR(MAX),\n",
                "    Severity NVARCHAR(20),\n",
                "    ValidFrom DATETIME2,\n",
                "    ValidTo DATETIME2,\n",
                "    CreatedAt DATETIME2 DEFAULT SYSUTCDATETIME()\n",
                ");"
            ],
            "metadata": {
                "language": "sql",
                "azdata_cell_guid": "62c26470-c597-476a-9821-8a07acd56fca"
            },
            "outputs": [],
            "execution_count": null
        },
        {
            "cell_type": "code",
            "source": [
                "CREATE TABLE recycling.CollectionBookings (\n",
                "    BookingID INT IDENTITY(1,1) PRIMARY KEY,\n",
                "    BusinessID INT FOREIGN KEY REFERENCES recycling.Businesses(BusinessID),\n",
                "    UserID INT FOREIGN KEY REFERENCES recycling.Users(UserID),\n",
                "    BookingType NVARCHAR(20), -- 'PICKUP', 'DROPOFF'\n",
                "    ScheduledDate DATE,\n",
                "    ScheduledTimeSlot NVARCHAR(50),\n",
                "    Status NVARCHAR(20), -- 'PENDING', 'CONFIRMED', 'COMPLETED', 'CANCELLED'\n",
                "    Address NVARCHAR(500),\n",
                "    Latitude DECIMAL(10, 8),\n",
                "    Longitude DECIMAL(11, 8),\n",
                "    Notes NVARCHAR(500),\n",
                "    CreatedDate DATETIME2 DEFAULT SYSUTCDATETIME(),\n",
                "    ModifiedDate DATETIME2 DEFAULT SYSUTCDATETIME(),\n",
                "    IsActive BIT DEFAULT 1,\n",
                "    DeletedAt DATETIME2 NULL,\n",
                "    DeletedBy NVARCHAR(128) NULL\n",
                ");\n",
                "\n",
                "-- Create an index for the CollectionBookings table\n",
                "CREATE INDEX IX_CollectionBookings_BusinessID ON recycling.CollectionBookings(BusinessID);\n",
                "CREATE INDEX IX_CollectionBookings_UserID ON recycling.CollectionBookings(UserID);"
            ],
            "metadata": {
                "language": "sql",
                "azdata_cell_guid": "0c24ee64-1988-4a8e-9425-eeedddf7e659"
            },
            "outputs": [
                {
                    "output_type": "display_data",
                    "data": {
                        "text/html": "Commands completed successfully."
                    },
                    "metadata": {}
                },
                {
                    "output_type": "display_data",
                    "data": {
                        "text/html": "Total execution time: 00:00:00.029"
                    },
                    "metadata": {}
                }
            ],
            "execution_count": 9
        },
        {
            "cell_type": "code",
            "source": [
                "CREATE TABLE recycling.WasteRecords (\n",
                "    RecordID INT IDENTITY(1,1) PRIMARY KEY,\n",
                "    BusinessID INT FOREIGN KEY REFERENCES recycling.Businesses(BusinessID),\n",
                "    MaterialCategoryID INT FOREIGN KEY REFERENCES recycling.MaterialCategories(CategoryID),\n",
                "    Quantity DECIMAL(10,2),\n",
                "    Unit NVARCHAR(20),\n",
                "    RecordDate DATE,\n",
                "    Notes NVARCHAR(500),\n",
                "    CreatedDate DATETIME2 DEFAULT SYSUTCDATETIME()\n",
                ");\n",
                "\n",
                "-- Create an index for the WasteRecords table\n",
                "CREATE INDEX IX_WasteRecords_BusinessID ON recycling.WasteRecords(BusinessID);\n",
                "CREATE INDEX IX_WasteRecords_MaterialCategoryID ON recycling.WasteRecords(MaterialCategoryID);"
            ],
            "metadata": {
                "language": "sql",
                "azdata_cell_guid": "1fe4f8cf-f7fd-4ce6-bafe-9ada865c69c9"
            },
            "outputs": [
                {
                    "output_type": "display_data",
                    "data": {
                        "text/html": "Commands completed successfully."
                    },
                    "metadata": {}
                },
                {
                    "output_type": "display_data",
                    "data": {
                        "text/html": "Total execution time: 00:00:00.043"
                    },
                    "metadata": {}
                }
            ],
            "execution_count": 10
        },
        {
            "cell_type": "code",
            "source": [
                "CREATE TABLE recycling.MaterialTransaction (\n",
                "    TransactionID INT IDENTITY(1,1) PRIMARY KEY,\n",
                "    RecordID INT FOREIGN KEY REFERENCES recycling.WasteRecords(RecordID),\n",
                "    CategoryID INT FOREIGN KEY REFERENCES recycling.MaterialCategories(CategoryID),\n",
                "    Quantity DECIMAL(10,2),\n",
                "    Unit NVARCHAR(20),\n",
                "    PricePerUnit DECIMAL(10,2),\n",
                "    TotalPrice DECIMAL(10,2),\n",
                "    Notes NVARCHAR(500),\n",
                "    IsActive BIT DEFAULT 1,\n",
                "    DeletedAt DATETIME2 NULL,\n",
                "    DeletedBy NVARCHAR(128) NULL\n",
                "); \n",
                "\n",
                "-- Create an index for the MaterialTransaction table\n",
                "CREATE INDEX IX_MaterialTransaction_RecordID ON recycling.MaterialTransaction(RecordID);\n",
                "CREATE INDEX IX_MaterialTransaction_CategoryID ON recycling.MaterialTransaction(CategoryID);"
            ],
            "metadata": {
                "language": "sql",
                "azdata_cell_guid": "f5330b90-7046-40ee-a95c-9500b2b41df0"
            },
            "outputs": [
                {
                    "output_type": "display_data",
                    "data": {
                        "text/html": "Commands completed successfully."
                    },
                    "metadata": {}
                },
                {
                    "output_type": "display_data",
                    "data": {
                        "text/html": "Total execution time: 00:00:00.032"
                    },
                    "metadata": {}
                }
            ],
            "execution_count": 14
        }
    ]
}