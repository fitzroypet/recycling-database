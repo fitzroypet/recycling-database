{
    "metadata": {
        "kernelspec": {
            "name": "SQL",
            "display_name": "SQL",
            "language": "sql"
        },
        "language_info": {
            "name": "sql",
            "version": ""
        }
    },
    "nbformat_minor": 2,
    "nbformat": 4,
    "cells": [
        {
            "cell_type": "code",
            "source": [
                "CREATE TABLE recycling.Businesses (\n",
                "    BusinessID INT IDENTITY(1,1) PRIMARY KEY,\n",
                "    Name NVARCHAR(255) NOT NULL,\n",
                "    FormattedAddress NVARCHAR(500) NOT NULL,\n",
                "    Latitude DECIMAL(10, 8),\n",
                "    Longitude DECIMAL(11, 8),\n",
                "    PhoneNumber NVARCHAR(50),\n",
                "    Website NVARCHAR(500),\n",
                "    Rating DECIMAL(3, 2),\n",
                "    PlaceID NVARCHAR(255),  -- Google Places ID\n",
                "    DateAdded DATETIME2 DEFAULT SYSUTCDATETIME(),\n",
                "    LastUpdated DATETIME2 DEFAULT SYSUTCDATETIME(),\n",
                "    IsActive BIT DEFAULT 1,\n",
                "    DeletedAt DATETIME2 NULL,\n",
                "    DeletedBy NVARCHAR(128) NULL\n",
                ");\n",
                "\n",
                "-- Create indexes for better search performance\n",
                "CREATE INDEX IX_Businesses_Location ON recycling.Businesses(Latitude, Longitude);\n",
                "CREATE INDEX IX_Businesses_Name ON recycling.Businesses(Name); "
            ],
            "metadata": {
                "azdata_cell_guid": "1e32c748-c2b6-49ab-a1df-db8b1c4e8d56",
                "language": "sql"
            },
            "outputs": [
                {
                    "output_type": "display_data",
                    "data": {
                        "text/html": "Commands completed successfully."
                    },
                    "metadata": {}
                },
                {
                    "output_type": "display_data",
                    "data": {
                        "text/html": "Total execution time: 00:00:00.034"
                    },
                    "metadata": {}
                }
            ],
            "execution_count": 1
        },
        {
            "cell_type": "code",
            "source": [
                "CREATE TABLE recycling.BusinessServices (\n",
                "    ServiceID INT IDENTITY(1,1) PRIMARY KEY,\n",
                "    BusinessID INT FOREIGN KEY REFERENCES recycling.Businesses(BusinessID),\n",
                "    ServiceName NVARCHAR(100) NOT NULL,\n",
                "    Description NVARCHAR(500),\n",
                "    IsBookingEnabled BIT DEFAULT 0,\n",
                "    PriceInfo NVARCHAR(MAX), -- JSON field for flexible pricing structure\n",
                "    CreatedDate DATETIME2 DEFAULT SYSUTCDATETIME(),\n",
                "    ModifiedDate DATETIME2 DEFAULT SYSUTCDATETIME()\n",
                "); "
            ],
            "metadata": {
                "language": "sql",
                "azdata_cell_guid": "2631cd3d-2c1f-4df5-942f-bd42464ced3c"
            },
            "outputs": [
                {
                    "output_type": "display_data",
                    "data": {
                        "text/html": "Commands completed successfully."
                    },
                    "metadata": {}
                },
                {
                    "output_type": "display_data",
                    "data": {
                        "text/html": "Total execution time: 00:00:00.053"
                    },
                    "metadata": {}
                }
            ],
            "execution_count": 2
        },
        {
            "cell_type": "code",
            "source": [
                "CREATE TABLE recycling.BusinessHours (\n",
                "    HoursID INT IDENTITY(1,1) PRIMARY KEY,\n",
                "    BusinessID INT FOREIGN KEY REFERENCES recycling.Businesses(BusinessID),\n",
                "    DayOfWeek TINYINT,  -- 0 = Sunday, 1 = Monday, etc.\n",
                "    OpenTime TIME,\n",
                "    CloseTime TIME,\n",
                "    IsClosed BIT DEFAULT 0\n",
                ");"
            ],
            "metadata": {
                "language": "sql",
                "azdata_cell_guid": "b99b608a-509a-4cf6-bde9-82e3ee80d6bb"
            },
            "outputs": [
                {
                    "output_type": "display_data",
                    "data": {
                        "text/html": "Commands completed successfully."
                    },
                    "metadata": {}
                },
                {
                    "output_type": "display_data",
                    "data": {
                        "text/html": "Total execution time: 00:00:00.027"
                    },
                    "metadata": {}
                }
            ],
            "execution_count": 3
        },
        {
            "cell_type": "code",
            "source": [
                "CREATE TABLE recycling.MaterialCategories (\n",
                "    CategoryID INT IDENTITY(1,1) PRIMARY KEY,\n",
                "    CategoryName NVARCHAR(100) NOT NULL,\n",
                "    Description NVARCHAR(500),\n",
                "    CONSTRAINT UQ_CategoryName UNIQUE (CategoryName)\n",
                "); "
            ],
            "metadata": {
                "language": "sql",
                "azdata_cell_guid": "b811cbda-c4cd-445f-8b2d-93ef782f687d"
            },
            "outputs": [
                {
                    "output_type": "display_data",
                    "data": {
                        "text/html": "Commands completed successfully."
                    },
                    "metadata": {}
                },
                {
                    "output_type": "display_data",
                    "data": {
                        "text/html": "Total execution time: 00:00:00.044"
                    },
                    "metadata": {}
                }
            ],
            "execution_count": 4
        },
        {
            "cell_type": "code",
            "source": [
                "CREATE TABLE recycling.BusinessMaterials (\n",
                "    BusinessID INT,\n",
                "    CategoryID INT,\n",
                "    IsVerified BIT DEFAULT 0,\n",
                "    VerificationSource NVARCHAR(50),\n",
                "    DateVerified DATETIME2,\n",
                "    PRIMARY KEY (BusinessID, CategoryID),\n",
                "    FOREIGN KEY (BusinessID) REFERENCES recycling.Businesses(BusinessID),\n",
                "    FOREIGN KEY (CategoryID) REFERENCES recycling.MaterialCategories(CategoryID)\n",
                ");\n",
                "\n",
                "CREATE INDEX IX_BusinessMaterials_Category ON recycling.BusinessMaterials(CategoryID); "
            ],
            "metadata": {
                "language": "sql",
                "azdata_cell_guid": "7c5fb28e-3616-414e-ae14-b151e4b7a61d"
            },
            "outputs": [
                {
                    "output_type": "display_data",
                    "data": {
                        "text/html": "Commands completed successfully."
                    },
                    "metadata": {}
                },
                {
                    "output_type": "display_data",
                    "data": {
                        "text/html": "Total execution time: 00:00:00.052"
                    },
                    "metadata": {}
                }
            ],
            "execution_count": 5
        },
        {
            "cell_type": "code",
            "source": [
                "CREATE TABLE recycling.BusinessAccounts (\n",
                "    AccountID INT IDENTITY(1,1) PRIMARY KEY,\n",
                "    BusinessID INT UNIQUE FOREIGN KEY REFERENCES recycling.Businesses(BusinessID),\n",
                "    Email NVARCHAR(255) NOT NULL UNIQUE,\n",
                "    IsEmailVerified BIT DEFAULT 0,\n",
                "    VerificationDate DATETIME2,\n",
                "    LastLoginDate DATETIME2,\n",
                "    AccountStatus NVARCHAR(20) DEFAULT 'PENDING', -- PENDING, ACTIVE, SUSPENDED\n",
                "    CreatedDate DATETIME2 DEFAULT SYSUTCDATETIME(),\n",
                "    ModifiedDate DATETIME2 DEFAULT SYSUTCDATETIME()\n",
                "); "
            ],
            "metadata": {
                "language": "sql",
                "azdata_cell_guid": "97b3de49-0be1-40e0-be29-1fe6ac9b63cb"
            },
            "outputs": [
                {
                    "output_type": "display_data",
                    "data": {
                        "text/html": "Commands completed successfully."
                    },
                    "metadata": {}
                },
                {
                    "output_type": "display_data",
                    "data": {
                        "text/html": "Total execution time: 00:00:00.045"
                    },
                    "metadata": {}
                }
            ],
            "execution_count": 6
        },
        {
            "cell_type": "code",
            "source": [
                "CREATE TABLE recycling.Users (\n",
                "    UserID INT IDENTITY(1,1) PRIMARY KEY,\n",
                "    Email NVARCHAR(255) NOT NULL UNIQUE,\n",
                "    PhoneNumber NVARCHAR(50),\n",
                "    FirstName NVARCHAR(100),\n",
                "    LastName NVARCHAR(100),\n",
                "    DefaultAddress NVARCHAR(500),\n",
                "    DefaultLatitude DECIMAL(10, 8),\n",
                "    DefaultLongitude DECIMAL(11, 8),\n",
                "    CreatedDate DATETIME2 DEFAULT SYSUTCDATETIME(),\n",
                "    ModifiedDate DATETIME2 DEFAULT SYSUTCDATETIME(),\n",
                "    IsActive BIT DEFAULT 1,\n",
                "    DeletedAt DATETIME2 NULL,\n",
                "    DeletedBy NVARCHAR(128) NULL\n",
                "); "
            ],
            "metadata": {
                "language": "sql",
                "azdata_cell_guid": "6adb61a2-699b-4a5a-b514-db8c08398111"
            },
            "outputs": [
                {
                    "output_type": "display_data",
                    "data": {
                        "text/html": "Commands completed successfully."
                    },
                    "metadata": {}
                },
                {
                    "output_type": "display_data",
                    "data": {
                        "text/html": "Total execution time: 00:00:00.044"
                    },
                    "metadata": {}
                }
            ],
            "execution_count": 7
        },
        {
            "cell_type": "code",
            "source": [
                "CREATE TABLE recycling.UserSubscriptions (\n",
                "    SubscriptionID INT IDENTITY(1,1) PRIMARY KEY,\n",
                "    UserID INT FOREIGN KEY REFERENCES recycling.Users(UserID),\n",
                "    BusinessID INT FOREIGN KEY REFERENCES recycling.Businesses(BusinessID),\n",
                "    NotificationsEnabled BIT DEFAULT 1,\n",
                "    SubscriptionDate DATETIME2 DEFAULT SYSUTCDATETIME(),\n",
                "    IsActive BIT DEFAULT 1,\n",
                "    DeletedAt DATETIME2 NULL,\n",
                "    DeletedBy NVARCHAR(128) NULL,\n",
                "    UNIQUE (UserID, BusinessID)\n",
                "); "
            ],
            "metadata": {
                "language": "sql",
                "azdata_cell_guid": "c292ef60-3523-43f0-a5a3-f8412ffd1135"
            },
            "outputs": [
                {
                    "output_type": "display_data",
                    "data": {
                        "text/html": "Commands completed successfully."
                    },
                    "metadata": {}
                },
                {
                    "output_type": "display_data",
                    "data": {
                        "text/html": "Total execution time: 00:00:00.032"
                    },
                    "metadata": {}
                }
            ],
            "execution_count": 8
        },
        {
            "cell_type": "code",
            "source": [
                "CREATE TABLE recycling.CollectionBookings (\n",
                "    BookingID INT IDENTITY(1,1) PRIMARY KEY,\n",
                "    BusinessID INT FOREIGN KEY REFERENCES recycling.Businesses(BusinessID),\n",
                "    UserID INT FOREIGN KEY REFERENCES recycling.Users(UserID),\n",
                "    BookingType NVARCHAR(20), -- 'PICKUP', 'DROPOFF'\n",
                "    ScheduledDate DATE,\n",
                "    ScheduledTimeSlot NVARCHAR(50),\n",
                "    Status NVARCHAR(20), -- 'PENDING', 'CONFIRMED', 'COMPLETED', 'CANCELLED'\n",
                "    Address NVARCHAR(500),\n",
                "    Latitude DECIMAL(10, 8),\n",
                "    Longitude DECIMAL(11, 8),\n",
                "    Notes NVARCHAR(500),\n",
                "    CreatedDate DATETIME2 DEFAULT SYSUTCDATETIME(),\n",
                "    ModifiedDate DATETIME2 DEFAULT SYSUTCDATETIME(),\n",
                "    IsActive BIT DEFAULT 1,\n",
                "    DeletedAt DATETIME2 NULL,\n",
                "    DeletedBy NVARCHAR(128) NULL\n",
                ");"
            ],
            "metadata": {
                "language": "sql",
                "azdata_cell_guid": "0c24ee64-1988-4a8e-9425-eeedddf7e659"
            },
            "outputs": [
                {
                    "output_type": "display_data",
                    "data": {
                        "text/html": "Commands completed successfully."
                    },
                    "metadata": {}
                },
                {
                    "output_type": "display_data",
                    "data": {
                        "text/html": "Total execution time: 00:00:00.029"
                    },
                    "metadata": {}
                }
            ],
            "execution_count": 9
        },
        {
            "cell_type": "code",
            "source": [
                "CREATE TABLE recycling.WasteRecords (\n",
                "    RecordID INT IDENTITY(1,1) PRIMARY KEY,\n",
                "    BusinessID INT FOREIGN KEY REFERENCES recycling.Businesses(BusinessID),\n",
                "    MaterialCategoryID INT FOREIGN KEY REFERENCES recycling.MaterialCategories(CategoryID),\n",
                "    Quantity DECIMAL(10,2),\n",
                "    Unit NVARCHAR(20),\n",
                "    RecordDate DATE,\n",
                "    Notes NVARCHAR(500),\n",
                "    CreatedDate DATETIME2 DEFAULT SYSUTCDATETIME()\n",
                ");"
            ],
            "metadata": {
                "language": "sql",
                "azdata_cell_guid": "1fe4f8cf-f7fd-4ce6-bafe-9ada865c69c9"
            },
            "outputs": [
                {
                    "output_type": "display_data",
                    "data": {
                        "text/html": "Commands completed successfully."
                    },
                    "metadata": {}
                },
                {
                    "output_type": "display_data",
                    "data": {
                        "text/html": "Total execution time: 00:00:00.043"
                    },
                    "metadata": {}
                }
            ],
            "execution_count": 10
        },
        {
            "cell_type": "code",
            "source": [
                "CREATE TABLE recycling.MaterialTransaction (\n",
                "    TransactionID INT IDENTITY(1,1) PRIMARY KEY,\n",
                "    RecordID INT FOREIGN KEY REFERENCES recycling.WasteRecords(RecordID),\n",
                "    CategoryID INT FOREIGN KEY REFERENCES recycling.MaterialCategories(CategoryID),\n",
                "    Quantity DECIMAL(10,2),\n",
                "    Unit NVARCHAR(20),\n",
                "    PricePerUnit DECIMAL(10,2),\n",
                "    TotalPrice DECIMAL(10,2),\n",
                "    Notes NVARCHAR(500),\n",
                "    IsActive BIT DEFAULT 1,\n",
                "    DeletedAt DATETIME2 NULL,\n",
                "    DeletedBy NVARCHAR(128) NULL\n",
                "); "
            ],
            "metadata": {
                "language": "sql",
                "azdata_cell_guid": "f5330b90-7046-40ee-a95c-9500b2b41df0"
            },
            "outputs": [
                {
                    "output_type": "display_data",
                    "data": {
                        "text/html": "Commands completed successfully."
                    },
                    "metadata": {}
                },
                {
                    "output_type": "display_data",
                    "data": {
                        "text/html": "Total execution time: 00:00:00.032"
                    },
                    "metadata": {}
                }
            ],
            "execution_count": 14
        }
    ]
}