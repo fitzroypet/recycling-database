{
    "metadata": {
        "kernelspec": {
            "name": "SQL",
            "display_name": "SQL",
            "language": "sql"
        },
        "language_info": {
            "name": "sql",
            "version": ""
        }
    },
    "nbformat_minor": 2,
    "nbformat": 4,
    "cells": [
        {
            "cell_type": "markdown",
            "source": [
                "# iRecycle Digital Database Creation"
            ],
            "metadata": {
                "language": "sql",
                "azdata_cell_guid": "0d6385ac-5617-4e72-b155-f653f97903f6"
            },
            "attachments": {}
        },
        {
            "cell_type": "markdown",
            "source": [
                "## Verify that we are in the correct database \"irecycledigitaldatabase\""
            ],
            "metadata": {
                "language": "sql",
                "azdata_cell_guid": "0330083f-4fae-4847-8faf-246d795d6adc"
            },
            "attachments": {}
        },
        {
            "cell_type": "code",
            "source": [
                "SELECT DB_NAME() AS CurrentDatabase;"
            ],
            "metadata": {
                "azdata_cell_guid": "5f07091a-39e6-418d-baa9-33f323da6e55",
                "language": "sql"
            },
            "outputs": [
                {
                    "output_type": "display_data",
                    "data": {
                        "text/html": "(1 row affected)"
                    },
                    "metadata": {}
                },
                {
                    "output_type": "display_data",
                    "data": {
                        "text/html": "Total execution time: 00:00:00.028"
                    },
                    "metadata": {}
                },
                {
                    "output_type": "execute_result",
                    "metadata": {},
                    "execution_count": 1,
                    "data": {
                        "application/vnd.dataresource+json": {
                            "schema": {
                                "fields": [
                                    {
                                        "name": "CurrentDatabase"
                                    }
                                ]
                            },
                            "data": [
                                {
                                    "CurrentDatabase": "irecycledigitaldatabase"
                                }
                            ]
                        },
                        "text/html": [
                            "<table>",
                            "<tr><th>CurrentDatabase</th></tr>",
                            "<tr><td>irecycledigitaldatabase</td></tr>",
                            "</table>"
                        ]
                    }
                }
            ],
            "execution_count": 1
        },
        {
            "cell_type": "markdown",
            "source": [
                "## 0\\. Create recycling database schema"
            ],
            "metadata": {
                "language": "sql",
                "azdata_cell_guid": "8e1f6f7a-5385-4533-9090-e1da96905217"
            },
            "attachments": {}
        },
        {
            "cell_type": "code",
            "source": [
                "-- Create schema for better organization\n",
                "CREATE SCHEMA recycling;\n",
                "GO "
            ],
            "metadata": {
                "language": "sql",
                "azdata_cell_guid": "7c99f66d-08ed-412e-a2d1-cbb93157c697"
            },
            "outputs": [
                {
                    "output_type": "error",
                    "evalue": "Msg 2714, Level 16, State 6, Line 2\nThere is already an object named 'recycling' in the database.",
                    "ename": "",
                    "traceback": []
                },
                {
                    "output_type": "error",
                    "evalue": "Msg 2759, Level 16, State 0, Line 2\nCREATE SCHEMA failed due to previous errors.",
                    "ename": "",
                    "traceback": []
                },
                {
                    "output_type": "display_data",
                    "data": {
                        "text/html": "Total execution time: 00:00:00.044"
                    },
                    "metadata": {}
                }
            ],
            "execution_count": 2
        },
        {
            "cell_type": "markdown",
            "source": [
                "## 1\\. Create recycling business table"
            ],
            "metadata": {
                "language": "sql",
                "azdata_cell_guid": "759d6d3b-c854-49f9-929b-8a05a42066ce"
            },
            "attachments": {}
        },
        {
            "cell_type": "code",
            "source": [
                "CREATE TABLE recycling.Businesses (\n",
                "    BusinessID INT IDENTITY(1,1) PRIMARY KEY,\n",
                "    Name NVARCHAR(255) NOT NULL,\n",
                "    FormattedAddress NVARCHAR(500) NOT NULL,\n",
                "    Latitude DECIMAL(10, 8),\n",
                "    Longitude DECIMAL(11, 8),\n",
                "    PhoneNumber NVARCHAR(50),\n",
                "    Website NVARCHAR(500),\n",
                "    Rating DECIMAL(3, 2),\n",
                "    PlaceID NVARCHAR(255),  -- Google Places ID\n",
                "    DateAdded DATETIME2 DEFAULT SYSUTCDATETIME(),\n",
                "    LastUpdated DATETIME2 DEFAULT SYSUTCDATETIME(),\n",
                "    IsActive BIT DEFAULT 1,\n",
                "    DeletedAt DATETIME2 NULL,\n",
                "    DeletedBy NVARCHAR(128) NULL,\n",
                "    SearchVector NVARCHAR(MAX), -- For full-text search\n",
                "    ServiceKeywords NVARCHAR(MAX) -- JSON array of keywords\n",
                ");\n",
                "\n",
                "-- Create indexes for better search performance\n",
                "CREATE INDEX IX_Businesses_Location ON recycling.Businesses(Latitude, Longitude);\n",
                "CREATE INDEX IX_Businesses_Name ON recycling.Businesses(Name); \n",
                "\n",
                "\n",
                "CREATE TABLE recycling.AddressComponents (\n",
                "    AddressComponentID INT PRIMARY KEY IDENTITY(1,1),\n",
                "    BusinessID INT,\n",
                "    StreetAddress NVARCHAR(255),\n",
                "    City NVARCHAR(100),\n",
                "    State NVARCHAR(100),\n",
                "    PostalCode NVARCHAR(20),\n",
                "    Country NVARCHAR(100),\n",
                "    FOREIGN KEY (BusinessID) REFERENCES recycling.Businesses(BusinessID)\n",
                ");"
            ],
            "metadata": {
                "language": "sql",
                "azdata_cell_guid": "efc67a36-d0da-4b31-8293-4e21a8e782ba"
            },
            "outputs": [
                {
                    "output_type": "display_data",
                    "data": {
                        "text/html": "Commands completed successfully."
                    },
                    "metadata": {}
                },
                {
                    "output_type": "display_data",
                    "data": {
                        "text/html": "Total execution time: 00:00:00.043"
                    },
                    "metadata": {}
                }
            ],
            "execution_count": 3
        },
        {
            "cell_type": "markdown",
            "source": [
                "## 2\\. Create recycling business services table"
            ],
            "metadata": {
                "language": "sql",
                "azdata_cell_guid": "08444707-65ac-4dc0-925d-24f1d5b5cb9b"
            },
            "attachments": {}
        },
        {
            "cell_type": "code",
            "source": [
                "CREATE TABLE recycling.BusinessServices (\n",
                "    ServiceID INT IDENTITY(1,1) PRIMARY KEY,\n",
                "    BusinessID INT FOREIGN KEY REFERENCES recycling.Businesses(BusinessID),\n",
                "    ServiceName NVARCHAR(100) NOT NULL,\n",
                "    Description NVARCHAR(500),\n",
                "    IsBookingEnabled BIT DEFAULT 0,\n",
                "    PriceInfo NVARCHAR(MAX), -- JSON field for flexible pricing structure\n",
                "    CreatedDate DATETIME2 DEFAULT SYSUTCDATETIME(),\n",
                "    ModifiedDate DATETIME2 DEFAULT SYSUTCDATETIME()\n",
                "); \n",
                "\n",
                "-- Create an index for the BusinessServices table\n",
                "CREATE INDEX IX_BusinessServices_BusinessID ON recycling.BusinessServices(BusinessID);"
            ],
            "metadata": {
                "language": "sql",
                "azdata_cell_guid": "9e9ce6c1-e4a7-4808-9b0e-34f4d758d1c3"
            },
            "outputs": [
                {
                    "output_type": "display_data",
                    "data": {
                        "text/html": "Commands completed successfully."
                    },
                    "metadata": {}
                },
                {
                    "output_type": "display_data",
                    "data": {
                        "text/html": "Total execution time: 00:00:00.039"
                    },
                    "metadata": {}
                }
            ],
            "execution_count": 4
        },
        {
            "cell_type": "markdown",
            "source": [
                "## 3\\. Create recycling business hours table"
            ],
            "metadata": {
                "language": "sql",
                "azdata_cell_guid": "1890123d-59b5-475f-b96e-ab8d56e9dd9e"
            },
            "attachments": {}
        },
        {
            "cell_type": "code",
            "source": [
                "CREATE TABLE recycling.BusinessHours (\n",
                "    HoursID INT IDENTITY(1,1) PRIMARY KEY,\n",
                "    BusinessID INT FOREIGN KEY REFERENCES recycling.Businesses(BusinessID),\n",
                "    DayOfWeek TINYINT,  -- 0 = Sunday, 1 = Monday, etc.\n",
                "    OpenTime TIME,\n",
                "    CloseTime TIME,\n",
                "    IsClosed BIT DEFAULT 0\n",
                ");\n",
                "\n",
                "-- Create an index for the BusinessHours table\n",
                "CREATE INDEX IX_BusinessHours_BusinessID ON recycling.BusinessHours(BusinessID);"
            ],
            "metadata": {
                "language": "sql",
                "azdata_cell_guid": "c011bba6-0982-41a6-8120-87be8339e095"
            },
            "outputs": [
                {
                    "output_type": "display_data",
                    "data": {
                        "text/html": "Commands completed successfully."
                    },
                    "metadata": {}
                },
                {
                    "output_type": "display_data",
                    "data": {
                        "text/html": "Total execution time: 00:00:00.052"
                    },
                    "metadata": {}
                }
            ],
            "execution_count": 5
        },
        {
            "cell_type": "markdown",
            "source": [
                "## 4\\. Create recycling materials table"
            ],
            "metadata": {
                "language": "sql",
                "azdata_cell_guid": "f09b2312-7e73-4da1-b2fc-0ba4901854d4"
            },
            "attachments": {}
        },
        {
            "cell_type": "code",
            "source": [
                "CREATE TABLE recycling.Materials (\n",
                "    MaterialID INT IDENTITY(1,1) PRIMARY KEY,\n",
                "    CategoryName NVARCHAR(50), -- e.g., 'plastic', 'metal', etc.\n",
                "    Description NVARCHAR(500), -- Description of the material\n",
                "    CO2Savings DECIMAL(10, 2)  -- CO2 savings per kg\n",
                "    CONSTRAINT UQ_Description UNIQUE (Description)\n",
                "); "
            ],
            "metadata": {
                "language": "sql",
                "azdata_cell_guid": "44bc4878-12ea-48f6-b75e-b53ec8a59cdc"
            },
            "outputs": [
                {
                    "output_type": "display_data",
                    "data": {
                        "text/html": "Commands completed successfully."
                    },
                    "metadata": {}
                },
                {
                    "output_type": "display_data",
                    "data": {
                        "text/html": "Total execution time: 00:00:00.037"
                    },
                    "metadata": {}
                }
            ],
            "execution_count": 6
        },
        {
            "cell_type": "markdown",
            "source": [
                "## <span style=\"font-family: -apple-system, BlinkMacSystemFont, sans-serif; color: var(--vscode-foreground);\">5. Create recycling business materials table</span>"
            ],
            "metadata": {
                "language": "sql",
                "azdata_cell_guid": "f68ef05a-85b5-46a2-889b-cd61b6ac19f1"
            },
            "attachments": {}
        },
        {
            "cell_type": "code",
            "source": [
                "CREATE TABLE recycling.BusinessMaterials (\n",
                "    BusinessID INT,\n",
                "    MaterialID INT,\n",
                "    CategoryName NVARCHAR(50),\n",
                "    Description NVARCHAR(500),\n",
                "    IsVerified BIT DEFAULT 0,\n",
                "    VerificationSource NVARCHAR(50),\n",
                "    DateVerified DATETIME2,\n",
                "    PRIMARY KEY (BusinessID, MaterialID),\n",
                "    FOREIGN KEY (BusinessID) REFERENCES recycling.Businesses(BusinessID),\n",
                "    FOREIGN KEY (MaterialID) REFERENCES recycling.Materials(MaterialID)\n",
                ");\n",
                "\n",
                "-- Create additional index for the BusinessMaterials table\n",
                "CREATE INDEX IX_BusinessMaterials_BusinessID ON recycling.BusinessMaterials(BusinessID);\n",
                "CREATE INDEX IX_BusinessMaterials_CategoryName ON recycling.Materials(CategoryName);"
            ],
            "metadata": {
                "language": "sql",
                "azdata_cell_guid": "4ecca1f9-ea47-4842-99a6-5f231ddef7f5"
            },
            "outputs": [
                {
                    "output_type": "display_data",
                    "data": {
                        "text/html": "Commands completed successfully."
                    },
                    "metadata": {}
                },
                {
                    "output_type": "display_data",
                    "data": {
                        "text/html": "Total execution time: 00:00:00.058"
                    },
                    "metadata": {}
                }
            ],
            "execution_count": 7
        },
        {
            "cell_type": "markdown",
            "source": [
                "## 6\\. Create business account table"
            ],
            "metadata": {
                "language": "sql",
                "azdata_cell_guid": "dc0fef87-cae1-4e11-b179-5768df6f024f"
            },
            "attachments": {}
        },
        {
            "cell_type": "code",
            "source": [
                "CREATE TABLE recycling.BusinessAccounts (\n",
                "    AccountID INT IDENTITY(1,1) PRIMARY KEY,\n",
                "    BusinessID INT UNIQUE FOREIGN KEY REFERENCES recycling.Businesses(BusinessID),\n",
                "    Email NVARCHAR(255) NOT NULL UNIQUE,\n",
                "    IsEmailVerified BIT DEFAULT 0,\n",
                "    VerificationDate DATETIME2,\n",
                "    LastLoginDate DATETIME2,\n",
                "    AccountStatus NVARCHAR(20) DEFAULT 'PENDING', -- PENDING, ACTIVE, SUSPENDED\n",
                "    CreatedDate DATETIME2 DEFAULT SYSUTCDATETIME(),\n",
                "    ModifiedDate DATETIME2 DEFAULT SYSUTCDATETIME()\n",
                "); \n",
                "\n",
                "-- Create an index for the BusinessAccounts table\n",
                "CREATE INDEX IX_BusinessAccounts_BusinessID ON recycling.BusinessAccounts(BusinessID);"
            ],
            "metadata": {
                "language": "sql",
                "azdata_cell_guid": "aab8ddb8-beae-42e0-a056-a8d2c265fc52"
            },
            "outputs": [
                {
                    "output_type": "display_data",
                    "data": {
                        "text/html": "Commands completed successfully."
                    },
                    "metadata": {}
                },
                {
                    "output_type": "display_data",
                    "data": {
                        "text/html": "Total execution time: 00:00:00.040"
                    },
                    "metadata": {}
                }
            ],
            "execution_count": 8
        },
        {
            "cell_type": "markdown",
            "source": [
                "## 7. <span style=\"font-family: -apple-system, BlinkMacSystemFont, sans-serif; color: var(--vscode-foreground);\">Create recycling user table</span>"
            ],
            "metadata": {
                "language": "sql",
                "azdata_cell_guid": "28522bfb-0aa3-4771-95aa-211d5c78ee4b"
            },
            "attachments": {}
        },
        {
            "cell_type": "code",
            "source": [
                "CREATE TABLE recycling.Users (\n",
                "    UserID INT IDENTITY(1,1) PRIMARY KEY,\n",
                "    Email NVARCHAR(255) NOT NULL UNIQUE,\n",
                "    PhoneNumber NVARCHAR(50),\n",
                "    FirstName NVARCHAR(100),\n",
                "    LastName NVARCHAR(100),\n",
                "    DefaultAddress NVARCHAR(500),\n",
                "    DefaultLatitude DECIMAL(10, 8),\n",
                "    DefaultLongitude DECIMAL(11, 8),\n",
                "    UserRole NVARCHAR(50), -- Residential, Commercial, Waste Picker\n",
                "    IsPhoneVerified BIT DEFAULT 0,\n",
                "    CreatedDate DATETIME2 DEFAULT SYSUTCDATETIME(),\n",
                "    ModifiedDate DATETIME2 DEFAULT SYSUTCDATETIME(),\n",
                "    IsActive BIT DEFAULT 1,\n",
                "    DeletedAt DATETIME2 NULL,\n",
                "    DeletedBy NVARCHAR(128) NULL\n",
                "); \n",
                "\n",
                "-- Create an index for the Users table\n",
                "CREATE INDEX IX_Users_Email ON recycling.Users(Email);"
            ],
            "metadata": {
                "language": "sql",
                "azdata_cell_guid": "33f284ac-cdfa-471d-9adc-7a4d9dd0c9a3"
            },
            "outputs": [
                {
                    "output_type": "display_data",
                    "data": {
                        "text/html": "Commands completed successfully."
                    },
                    "metadata": {}
                },
                {
                    "output_type": "display_data",
                    "data": {
                        "text/html": "Total execution time: 00:00:00.040"
                    },
                    "metadata": {}
                }
            ],
            "execution_count": 9
        },
        {
            "cell_type": "markdown",
            "source": [
                "## 8. <span style=\"font-family: -apple-system, BlinkMacSystemFont, sans-serif; color: var(--vscode-foreground);\">Create user subscription table</span>"
            ],
            "metadata": {
                "language": "sql",
                "azdata_cell_guid": "36793d78-fa2c-4a46-a067-a5cb6b74f3db"
            },
            "attachments": {}
        },
        {
            "cell_type": "code",
            "source": [
                "CREATE TABLE recycling.UserSubscriptions (\n",
                "    SubscriptionID INT IDENTITY(1,1) PRIMARY KEY,\n",
                "    UserID INT FOREIGN KEY REFERENCES recycling.Users(UserID),\n",
                "    BusinessID INT FOREIGN KEY REFERENCES recycling.Businesses(BusinessID),\n",
                "    NotificationsEnabled BIT DEFAULT 1,\n",
                "    SubscriptionDate DATETIME2 DEFAULT SYSUTCDATETIME(),\n",
                "    IsActive BIT DEFAULT 1,\n",
                "    DeletedAt DATETIME2 NULL,\n",
                "    DeletedBy NVARCHAR(128) NULL,\n",
                "    UNIQUE (UserID, BusinessID)\n",
                "); \n",
                "\n",
                "-- Create an index for the UserSubscriptions table\n",
                "CREATE INDEX IX_UserSubscriptions_UserID ON recycling.UserSubscriptions(UserID);\n",
                "CREATE INDEX IX_UserSubscriptions_BusinessID ON recycling.UserSubscriptions(BusinessID);"
            ],
            "metadata": {
                "language": "sql",
                "azdata_cell_guid": "4257083c-bd79-48b6-bedc-af990f30781f"
            },
            "outputs": [
                {
                    "output_type": "display_data",
                    "data": {
                        "text/html": "Commands completed successfully."
                    },
                    "metadata": {}
                },
                {
                    "output_type": "display_data",
                    "data": {
                        "text/html": "Total execution time: 00:00:00.044"
                    },
                    "metadata": {}
                }
            ],
            "execution_count": 10
        },
        {
            "cell_type": "markdown",
            "source": [
                "## 9. <span style=\"font-family: -apple-system, BlinkMacSystemFont, sans-serif; color: var(--vscode-foreground);\">Insert recycling materials</span>"
            ],
            "metadata": {
                "language": "sql",
                "azdata_cell_guid": "84f0f1ff-e322-4793-9ee0-48b21f2d5b0a"
            },
            "attachments": {}
        },
        {
            "cell_type": "code",
            "source": [
                "INSERT INTO recycling.Materials (CategoryName, Description, CO2Savings) VALUES\n",
                "('paper', 'Corrugated Containers', 5.58),\n",
                "('paper', 'Magazines/third-class mail', 8.57),\n",
                "('paper', 'Newspaper', 4.68),\n",
                "('paper', 'Office Paper', 7.95),\n",
                "('paper', 'Phonebooks', 6.17),\n",
                "('paper', 'Textbooks', 9.02),\n",
                "('paper', 'Mixed Paper (general)', 6.07),\n",
                "('paper', 'Mixed Paper (primarily)', 6.00),\n",
                "('paper', 'Mixed Paper (primarily from Food Waste)', 3.66),\n",
                "('organic', 'Food Waste (non-meat)', 0.76),\n",
                "('organic', 'Food Waste (meat only)', 15.1),\n",
                "('organic', 'Beef', 30.9),\n",
                "('organic', 'Poultry', 2.45),\n",
                "('organic', 'Grains', 0.62),\n",
                "('organic', 'Bread', 0.66),\n",
                "('organic', 'Fruits and Vegetables', 0.44),\n",
                "('organic', 'Dairy Products', 1.75),\n",
                "('plastic', 'HDPE', 1.42),\n",
                "('plastic', 'LDPE', 1.80),\n",
                "('plastic', 'PET', 2.17),\n",
                "('plastic', 'LLDPE', 1.58),\n",
                "('plastic', 'PP', 1.00), -- Adjust as necessary\n",
                "('plastic', 'PS', 2.50),\n",
                "('plastic', 'PVC', 1.93),\n",
                "('plastic', 'Mixed Plastics', 1.87),\n",
                "('plastic', 'PLA', 2.45),\n",
                "('electronics', 'Desktop CPUs', 20.80),\n",
                "('electronics', 'Portable Electronic Devices', 29.83),\n",
                "('electronics', 'Flat-Panel Displays', 24.19),\n",
                "('electronics', 'Electronic Peripherals', 10.32),\n",
                "('electronics', 'Hard-Copy Devices', 7.65),\n",
                "('electronics', 'Mixed Electronics', 20.79),\n",
                "('metal', 'Aluminum Cans', 4.80),\n",
                "('metal', 'Aluminum Ingot', 7.48),\n",
                "('metal', 'Steel Cans', 3.03),\n",
                "('metal', 'Copper Wire', 6.72),\n",
                "('metal', 'Mixed Metals', 3.65),\n",
                "('glass', 'Glass', 0.53),\n",
                "('construction', 'Asphalt Concrete', 0.19),\n",
                "('construction', 'Asphalt Shingles', 0.19),\n",
                "('construction', 'Carpet', 3.68),\n",
                "('construction', 'Clay Bricks', 0.27),\n",
                "('construction', 'Dimensional Lumber', 2.11),\n",
                "('construction', 'Drywall', 0.00), -- Adjust as necessary\n",
                "('construction', 'Fiberglass Insulation', 0.38),\n",
                "('construction', 'Medium-density Fiberboard', 3.05),\n",
                "('construction', 'Structural Steel', 1.67),\n",
                "('construction', 'Vinyl Flooring', 0.58),\n",
                "('construction', 'Wood Flooring', 4.11),\n",
                "('tires', 'Tires', 4.30);"
            ],
            "metadata": {
                "language": "sql",
                "azdata_cell_guid": "0893f48f-9f57-4062-b299-c57c2d4fa1e1"
            },
            "outputs": [
                {
                    "output_type": "display_data",
                    "data": {
                        "text/html": "(50 rows affected)"
                    },
                    "metadata": {}
                },
                {
                    "output_type": "display_data",
                    "data": {
                        "text/html": "Total execution time: 00:00:00.042"
                    },
                    "metadata": {}
                }
            ],
            "execution_count": 11
        },
        {
            "cell_type": "markdown",
            "source": [
                "# DONT CREATE THESE TABLES YET!"
            ],
            "metadata": {
                "language": "sql",
                "azdata_cell_guid": "3e45b6f4-603c-4755-bb48-c96266f27d84"
            },
            "attachments": {}
        },
        {
            "cell_type": "code",
            "source": [
                "CREATE TABLE recycling.CommunicationPreferences (\n",
                "    UserID INT PRIMARY KEY FOREIGN KEY REFERENCES recycling.Users(UserID),\n",
                "    EmailNotifications BIT DEFAULT 1,\n",
                "    PushNotifications BIT DEFAULT 0,\n",
                "    SMSNotifications BIT DEFAULT 0,\n",
                "    NotificationFrequency NVARCHAR(20) DEFAULT 'DAILY', -- Weekly, Monthly\n",
                "    PreferredChannels NVARCHAR(MAX) -- JSON array of preferred communication methods\n",
                "); "
            ],
            "metadata": {
                "language": "sql",
                "azdata_cell_guid": "063314a1-0f2d-458c-85b4-d149338c365c"
            },
            "outputs": [],
            "execution_count": null
        },
        {
            "cell_type": "code",
            "source": [
                "CREATE TABLE recycling.RecyclingAlerts (\n",
                "    AlertID INT IDENTITY(1,1) PRIMARY KEY,\n",
                "    BusinessID INT FOREIGN KEY REFERENCES recycling.Businesses(BusinessID),\n",
                "    AlertType NVARCHAR(50), -- 'SCHEDULE_CHANGE', 'NEW_SERVICE', 'CONTAMINATION_FEEDBACK'\n",
                "    Title NVARCHAR(200),\n",
                "    Content NVARCHAR(MAX),\n",
                "    Severity NVARCHAR(20),\n",
                "    ValidFrom DATETIME2,\n",
                "    ValidTo DATETIME2,\n",
                "    CreatedAt DATETIME2 DEFAULT SYSUTCDATETIME()\n",
                ");"
            ],
            "metadata": {
                "language": "sql",
                "azdata_cell_guid": "b599d641-a125-4cc1-b8ff-c9bffc5deec9"
            },
            "outputs": [],
            "execution_count": null
        },
        {
            "cell_type": "code",
            "source": [
                "CREATE TABLE recycling.CollectionBookings (\n",
                "    BookingID INT IDENTITY(1,1) PRIMARY KEY,\n",
                "    BusinessID INT FOREIGN KEY REFERENCES recycling.Businesses(BusinessID),\n",
                "    UserID INT FOREIGN KEY REFERENCES recycling.Users(UserID),\n",
                "    BookingType NVARCHAR(20), -- 'PICKUP', 'DROPOFF'\n",
                "    ScheduledDate DATE,\n",
                "    ScheduledTimeSlot NVARCHAR(50),\n",
                "    Status NVARCHAR(20), -- 'PENDING', 'CONFIRMED', 'COMPLETED', 'CANCELLED'\n",
                "    Address NVARCHAR(500),\n",
                "    Latitude DECIMAL(10, 8),\n",
                "    Longitude DECIMAL(11, 8),\n",
                "    Notes NVARCHAR(500),\n",
                "    CreatedDate DATETIME2 DEFAULT SYSUTCDATETIME(),\n",
                "    ModifiedDate DATETIME2 DEFAULT SYSUTCDATETIME(),\n",
                "    IsActive BIT DEFAULT 1,\n",
                "    DeletedAt DATETIME2 NULL,\n",
                "    DeletedBy NVARCHAR(128) NULL\n",
                ");\n",
                "\n",
                "-- Create an index for the CollectionBookings table\n",
                "CREATE INDEX IX_CollectionBookings_BusinessID ON recycling.CollectionBookings(BusinessID);\n",
                "CREATE INDEX IX_CollectionBookings_UserID ON recycling.CollectionBookings(UserID);"
            ],
            "metadata": {
                "language": "sql",
                "azdata_cell_guid": "c63f5030-1529-40b5-823d-bb51611b4cfa"
            },
            "outputs": [],
            "execution_count": null
        },
        {
            "cell_type": "code",
            "source": [
                "CREATE TABLE recycling.WasteRecords (\n",
                "    RecordID INT IDENTITY(1,1) PRIMARY KEY,\n",
                "    BusinessID INT FOREIGN KEY REFERENCES recycling.Businesses(BusinessID),\n",
                "    MaterialCategoryID INT FOREIGN KEY REFERENCES recycling.MaterialCategories(CategoryID),\n",
                "    Quantity DECIMAL(10,2),\n",
                "    Unit NVARCHAR(20),\n",
                "    RecordDate DATE,\n",
                "    Notes NVARCHAR(500),\n",
                "    CreatedDate DATETIME2 DEFAULT SYSUTCDATETIME()\n",
                ");\n",
                "\n",
                "-- Create an index for the WasteRecords table\n",
                "CREATE INDEX IX_WasteRecords_BusinessID ON recycling.WasteRecords(BusinessID);\n",
                "CREATE INDEX IX_WasteRecords_MaterialCategoryID ON recycling.WasteRecords(MaterialCategoryID);"
            ],
            "metadata": {
                "language": "sql",
                "azdata_cell_guid": "415802d1-1496-4063-b7b7-62f171cad348"
            },
            "outputs": [],
            "execution_count": null
        },
        {
            "cell_type": "code",
            "source": [
                "CREATE TABLE recycling.MaterialTransaction (\n",
                "    TransactionID INT IDENTITY(1,1) PRIMARY KEY,\n",
                "    RecordID INT FOREIGN KEY REFERENCES recycling.WasteRecords(RecordID),\n",
                "    CategoryID INT FOREIGN KEY REFERENCES recycling.MaterialCategories(CategoryID),\n",
                "    Quantity DECIMAL(10,2),\n",
                "    Unit NVARCHAR(20),\n",
                "    PricePerUnit DECIMAL(10,2),\n",
                "    TotalPrice DECIMAL(10,2),\n",
                "    Notes NVARCHAR(500),\n",
                "    IsActive BIT DEFAULT 1,\n",
                "    DeletedAt DATETIME2 NULL,\n",
                "    DeletedBy NVARCHAR(128) NULL\n",
                "); \n",
                "\n",
                "-- Create an index for the MaterialTransaction table\n",
                "CREATE INDEX IX_MaterialTransaction_RecordID ON recycling.MaterialTransaction(RecordID);\n",
                "CREATE INDEX IX_MaterialTransaction_CategoryID ON recycling.MaterialTransaction(CategoryID);"
            ],
            "metadata": {
                "language": "sql",
                "azdata_cell_guid": "dfe213c8-619f-481c-a755-2a9cb4cb4a8c"
            },
            "outputs": [],
            "execution_count": null
        }
    ]
}