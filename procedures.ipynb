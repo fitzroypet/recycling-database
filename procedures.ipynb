{
    "metadata": {
        "kernelspec": {
            "name": "SQL",
            "display_name": "SQL",
            "language": "sql"
        },
        "language_info": {
            "name": "sql",
            "version": ""
        }
    },
    "nbformat_minor": 2,
    "nbformat": 4,
    "cells": [
        {
            "cell_type": "markdown",
            "source": [
                "# Procedures"
            ],
            "metadata": {
                "azdata_cell_guid": "af2efc40-c019-4bc8-9430-126773c6ba70"
            },
            "attachments": {}
        },
        {
            "cell_type": "markdown",
            "source": [
                "Record recycling transaction"
            ],
            "metadata": {
                "azdata_cell_guid": "fe602bf8-23d3-4526-b0b3-9bbb165ca143"
            },
            "attachments": {}
        },
        {
            "cell_type": "code",
            "source": [
                "CREATE PROCEDURE recycling.usp_RecordRecyclingTransaction\n",
                "    @BusinessID INT,\n",
                "    @UserID INT,\n",
                "    @TransactionType NVARCHAR(20),\n",
                "    @PaymentAmount DECIMAL(10,2),\n",
                "    @PaymentCurrency NVARCHAR(3),\n",
                "    @Notes NVARCHAR(500),\n",
                "    @Materials NVARCHAR(MAX) -- JSON array of {materialCategoryID, quantity, unit, pricePerUnit}\n",
                "AS\n",
                "BEGIN\n",
                "    SET NOCOUNT ON;\n",
                "    \n",
                "    BEGIN TRANSACTION;\n",
                "    \n",
                "    BEGIN TRY\n",
                "        -- Insert main transaction\n",
                "        DECLARE @TransactionID INT;\n",
                "        \n",
                "        INSERT INTO recycling.RecyclingTransactions (\n",
                "            BusinessID, UserID, TransactionType, \n",
                "            PaymentAmount, PaymentCurrency, PaymentStatus, Notes\n",
                "        )\n",
                "        VALUES (\n",
                "            @BusinessID, @UserID, @TransactionType,\n",
                "            @PaymentAmount, @PaymentCurrency, 'COMPLETED', @Notes\n",
                "        );\n",
                "        \n",
                "        SET @TransactionID = SCOPE_IDENTITY();\n",
                "        \n",
                "        -- Insert transaction materials\n",
                "        INSERT INTO recycling.TransactionMaterials (\n",
                "            TransactionID, MaterialCategoryID, \n",
                "            Quantity, Unit, PricePerUnit, TotalPrice\n",
                "        )\n",
                "        SELECT \n",
                "            @TransactionID,\n",
                "            JSON_VALUE(m.value, '$.materialCategoryID'),\n",
                "            JSON_VALUE(m.value, '$.quantity'),\n",
                "            JSON_VALUE(m.value, '$.unit'),\n",
                "            JSON_VALUE(m.value, '$.pricePerUnit'),\n",
                "            CAST(JSON_VALUE(m.value, '$.quantity') AS DECIMAL(10,2)) * \n",
                "            CAST(JSON_VALUE(m.value, '$.pricePerUnit') AS DECIMAL(10,2))\n",
                "        FROM OPENJSON(@Materials) m;\n",
                "        \n",
                "        COMMIT TRANSACTION;\n",
                "        \n",
                "        SELECT @TransactionID AS TransactionID;\n",
                "    END TRY\n",
                "    BEGIN CATCH\n",
                "        ROLLBACK TRANSACTION;\n",
                "        THROW;\n",
                "    END CATCH\n",
                "END;\n",
                "GO "
            ],
            "metadata": {
                "azdata_cell_guid": "6a8c0437-2261-49d3-9cc0-e93d46e1d694",
                "language": "sql"
            },
            "outputs": [
                {
                    "output_type": "error",
                    "evalue": "Msg 2714, Level 16, State 3, Procedure usp_RecordRecyclingTransaction, Line 1\nThere is already an object named 'usp_RecordRecyclingTransaction' in the database.",
                    "ename": "",
                    "traceback": []
                },
                {
                    "output_type": "display_data",
                    "data": {
                        "text/html": "Total execution time: 00:01:05.271"
                    },
                    "metadata": {}
                }
            ],
            "execution_count": 2
        },
        {
            "cell_type": "markdown",
            "source": [
                "Upsert business"
            ],
            "metadata": {
                "language": "sql",
                "azdata_cell_guid": "0a92ae7a-9b58-4138-a8af-e0bca4fb9428"
            },
            "attachments": {}
        },
        {
            "cell_type": "code",
            "source": [
                "CREATE PROCEDURE recycling.usp_UpsertBusiness\n",
                "    @Name NVARCHAR(255),\n",
                "    @Address NVARCHAR(500),\n",
                "    @Latitude DECIMAL(10, 8),\n",
                "    @Longitude DECIMAL(11, 8),\n",
                "    @Phone NVARCHAR(50),\n",
                "    @Website NVARCHAR(500),\n",
                "    @Rating DECIMAL(3, 2),\n",
                "    @PlaceID NVARCHAR(255),\n",
                "    @Materials NVARCHAR(MAX)  -- JSON array of material categories\n",
                "AS\n",
                "BEGIN\n",
                "    SET NOCOUNT ON;\n",
                "    \n",
                "    DECLARE @BusinessID INT;\n",
                "    \n",
                "    -- Insert or update business\n",
                "    MERGE recycling.Businesses AS target\n",
                "    USING (SELECT @PlaceID AS PlaceID) AS source\n",
                "    ON target.PlaceID = source.PlaceID\n",
                "    WHEN MATCHED THEN\n",
                "        UPDATE SET \n",
                "            Name = @Name,\n",
                "            FormattedAddress = @Address,\n",
                "            Latitude = @Latitude,\n",
                "            Longitude = @Longitude,\n",
                "            PhoneNumber = @Phone,\n",
                "            Website = @Website,\n",
                "            Rating = @Rating,\n",
                "            LastUpdated = SYSUTCDATETIME()\n",
                "    WHEN NOT MATCHED THEN\n",
                "        INSERT (Name, FormattedAddress, Latitude, Longitude, PhoneNumber, Website, Rating, PlaceID)\n",
                "        VALUES (@Name, @Address, @Latitude, @Longitude, @Phone, @Website, @Rating, @PlaceID)\n",
                "    OUTPUT INSERTED.BusinessID INTO @BusinessID;\n",
                "\n",
                "    -- Clear and update materials if specified\n",
                "    IF @Materials IS NOT NULL\n",
                "    BEGIN\n",
                "        DELETE FROM recycling.BusinessMaterials WHERE BusinessID = @BusinessID;\n",
                "\n",
                "        -- Insert materials based on JSON array\n",
                "        INSERT INTO recycling.BusinessMaterials (BusinessID, CategoryID)\n",
                "        SELECT @BusinessID, CategoryID\n",
                "        FROM recycling.MaterialCategories\n",
                "        WHERE CategoryName IN (SELECT value FROM OPENJSON(@Materials));\n",
                "    END\n",
                "END;\n",
                "GO "
            ],
            "metadata": {
                "language": "sql",
                "azdata_cell_guid": "56e44408-443e-45e8-8a02-02ba83ae3373"
            },
            "outputs": [],
            "execution_count": null
        },
        {
            "cell_type": "markdown",
            "source": [
                "Verify business"
            ],
            "metadata": {
                "language": "sql",
                "azdata_cell_guid": "4a342569-d319-4e5a-b2c0-16ed925d0fa2"
            },
            "attachments": {}
        },
        {
            "cell_type": "code",
            "source": [
                "CREATE PROCEDURE recycling.usp_VerifyBusiness\n",
                "    @BusinessID INT,\n",
                "    @Email NVARCHAR(255),\n",
                "    @BusinessName NVARCHAR(255),\n",
                "    @Address NVARCHAR(500),\n",
                "    @Phone NVARCHAR(50),\n",
                "    @Website NVARCHAR(500),\n",
                "    @Materials NVARCHAR(MAX)  -- JSON array of material categories\n",
                "AS\n",
                "BEGIN\n",
                "    SET NOCOUNT ON;\n",
                "    \n",
                "    BEGIN TRANSACTION;\n",
                "    \n",
                "    BEGIN TRY\n",
                "        -- Update business information\n",
                "        UPDATE recycling.Businesses\n",
                "        SET Name = @BusinessName,\n",
                "            FormattedAddress = @Address,\n",
                "            PhoneNumber = @Phone,\n",
                "            Website = @Website,\n",
                "            LastUpdated = SYSUTCDATETIME()\n",
                "        WHERE BusinessID = @BusinessID;\n",
                "\n",
                "        -- Create or update business account\n",
                "        MERGE recycling.BusinessAccounts AS target\n",
                "        USING (SELECT @BusinessID AS BusinessID, @Email AS Email) AS source\n",
                "        ON target.BusinessID = source.BusinessID\n",
                "        WHEN MATCHED THEN\n",
                "            UPDATE SET \n",
                "                Email = @Email,\n",
                "                ModifiedDate = SYSUTCDATETIME()\n",
                "        WHEN NOT MATCHED THEN\n",
                "            INSERT (BusinessID, Email)\n",
                "            VALUES (@BusinessID, @Email);\n",
                "\n",
                "        -- Update materials handled\n",
                "        IF @Materials IS NOT NULL\n",
                "        BEGIN\n",
                "            DELETE FROM recycling.BusinessMaterials \n",
                "            WHERE BusinessID = @BusinessID;\n",
                "\n",
                "            INSERT INTO recycling.BusinessMaterials (BusinessID, CategoryID, IsVerified)\n",
                "            SELECT @BusinessID, CategoryID, 1\n",
                "            FROM recycling.MaterialCategories\n",
                "            WHERE CategoryName IN (SELECT value FROM OPENJSON(@Materials));\n",
                "        END\n",
                "\n",
                "        COMMIT TRANSACTION;\n",
                "    END TRY\n",
                "    BEGIN CATCH\n",
                "        ROLLBACK TRANSACTION;\n",
                "        THROW;\n",
                "    END CATCH\n",
                "END;\n",
                "GO "
            ],
            "metadata": {
                "language": "sql",
                "azdata_cell_guid": "5289f31e-5899-47db-9c8a-40141c593e17"
            },
            "outputs": [],
            "execution_count": null
        }
    ]
}