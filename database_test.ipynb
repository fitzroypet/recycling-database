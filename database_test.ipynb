{
    "metadata": {
        "kernelspec": {
            "name": "SQL",
            "display_name": "SQL",
            "language": "sql"
        },
        "language_info": {
            "name": "sql",
            "version": ""
        }
    },
    "nbformat_minor": 2,
    "nbformat": 4,
    "cells": [
        {
            "cell_type": "markdown",
            "source": [
                "# Database Tests"
            ],
            "metadata": {
                "azdata_cell_guid": "16979f6e-a7f4-48cd-ad8d-2c9975e5d501"
            },
            "attachments": {}
        },
        {
            "cell_type": "markdown",
            "source": [
                "1\\. Test user"
            ],
            "metadata": {
                "azdata_cell_guid": "d672628a-c033-40de-9e40-d883751eb9f2"
            },
            "attachments": {}
        },
        {
            "cell_type": "code",
            "source": [
                "-- Test User Creation and Management\n",
                "DECLARE @TestUserID INT;\n",
                "DECLARE @TestEmail NVARCHAR(255) = 'test.user@example.com';\n",
                "\n",
                "-- Create test user\n",
                "INSERT INTO recycling.Users (\n",
                "    Email, \n",
                "    PhoneNumber, \n",
                "    FirstName, \n",
                "    LastName, \n",
                "    DefaultAddress,\n",
                "    DefaultLatitude,\n",
                "    DefaultLongitude\n",
                ")\n",
                "VALUES (\n",
                "    @TestEmail,\n",
                "    '+1234567890',\n",
                "    'Test',\n",
                "    'User',\n",
                "    '123 Test Street, Test City',\n",
                "    -1.2921,\n",
                "    36.8219\n",
                ");\n",
                "\n",
                "SET @TestUserID = SCOPE_IDENTITY();\n",
                "PRINT 'Created test user with ID: ' + CAST(@TestUserID AS NVARCHAR(10));\n",
                "\n",
                "-- Verify user creation\n",
                "IF EXISTS (SELECT 1 FROM recycling.Users WHERE UserID = @TestUserID)\n",
                "    PRINT 'User creation test: PASSED'\n",
                "ELSE\n",
                "    THROW 50000, 'User creation test: FAILED', 1; "
            ],
            "metadata": {
                "azdata_cell_guid": "0f598507-8b8e-4114-9172-2ae3b422be7a",
                "language": "sql"
            },
            "outputs": [
                {
                    "output_type": "display_data",
                    "data": {
                        "text/html": "(1 row affected)"
                    },
                    "metadata": {}
                },
                {
                    "output_type": "display_data",
                    "data": {
                        "text/html": "Created test user with ID: 1"
                    },
                    "metadata": {}
                },
                {
                    "output_type": "display_data",
                    "data": {
                        "text/html": "User creation test: PASSED"
                    },
                    "metadata": {}
                },
                {
                    "output_type": "display_data",
                    "data": {
                        "text/html": "Total execution time: 00:00:00.044"
                    },
                    "metadata": {}
                }
            ],
            "execution_count": 1
        },
        {
            "cell_type": "markdown",
            "source": [
                "2\\. Test business"
            ],
            "metadata": {
                "language": "sql",
                "azdata_cell_guid": "3d14f0f2-4b5b-45f8-8a45-03c9ac921c51"
            },
            "attachments": {}
        },
        {
            "cell_type": "code",
            "source": [
                "-- Test Business Creation\n",
                "DECLARE @TestBusinessID INT;\n",
                "\n",
                "INSERT INTO recycling.Businesses (\n",
                "    Name,\n",
                "    FormattedAddress,\n",
                "    Latitude,\n",
                "    Longitude,\n",
                "    PhoneNumber,\n",
                "    Website\n",
                ")\n",
                "VALUES (\n",
                "    'Test Recycling Company',\n",
                "    '456 Recycling Ave, Green City',\n",
                "    -1.2921,\n",
                "    36.8219,\n",
                "    '+254123456789',\n",
                "    'www.testrecycling.com'\n",
                ");\n",
                "\n",
                "SET @TestBusinessID = SCOPE_IDENTITY();\n",
                "PRINT 'Created test business with ID: ' + CAST(@TestBusinessID AS NVARCHAR(10));\n",
                "\n",
                "-- Verify business creation\n",
                "IF EXISTS (SELECT 1 FROM recycling.Businesses WHERE BusinessID = @TestBusinessID)\n",
                "    PRINT 'Business creation test: PASSED'\n",
                "ELSE\n",
                "    THROW 50000, 'Business creation test: FAILED', 1; "
            ],
            "metadata": {
                "language": "sql",
                "azdata_cell_guid": "0e97d0ce-39a7-43f2-8262-d39af5307e53"
            },
            "outputs": [
                {
                    "output_type": "display_data",
                    "data": {
                        "text/html": "(1 row affected)"
                    },
                    "metadata": {}
                },
                {
                    "output_type": "display_data",
                    "data": {
                        "text/html": "Created test business with ID: 1"
                    },
                    "metadata": {}
                },
                {
                    "output_type": "display_data",
                    "data": {
                        "text/html": "Business creation test: PASSED"
                    },
                    "metadata": {}
                },
                {
                    "output_type": "display_data",
                    "data": {
                        "text/html": "Total execution time: 00:00:00.033"
                    },
                    "metadata": {}
                }
            ],
            "execution_count": 2
        },
        {
            "cell_type": "markdown",
            "source": [
                "3\\. Test subscription"
            ],
            "metadata": {
                "language": "sql",
                "azdata_cell_guid": "153082a2-b2e3-490c-b173-ad6673834f30"
            },
            "attachments": {}
        },
        {
            "cell_type": "code",
            "source": [
                "-- Test User Subscription\n",
                "DECLARE @TestSubscriptionID INT;\n",
                "\n",
                "INSERT INTO recycling.UserSubscriptions (\n",
                "    UserID,\n",
                "    BusinessID,\n",
                "    NotificationsEnabled\n",
                ")\n",
                "VALUES (\n",
                "    1,\n",
                "    1,\n",
                "    1\n",
                ");\n",
                "\n",
                "SET @TestSubscriptionID = SCOPE_IDENTITY();\n",
                "PRINT 'Created test subscription with ID: ' + CAST(@TestSubscriptionID AS NVARCHAR(10));\n",
                "\n",
                "-- Verify subscription\n",
                "IF EXISTS (SELECT 1 FROM recycling.UserSubscriptions WHERE SubscriptionID = @TestSubscriptionID)\n",
                "    PRINT 'Subscription creation test: PASSED'\n",
                "ELSE\n",
                "    THROW 50000, 'Subscription creation test: FAILED', 1; "
            ],
            "metadata": {
                "language": "sql",
                "azdata_cell_guid": "59d8e884-d79f-4345-9b3b-eee9bd3e937c"
            },
            "outputs": [
                {
                    "output_type": "display_data",
                    "data": {
                        "text/html": "(1 row affected)"
                    },
                    "metadata": {}
                },
                {
                    "output_type": "display_data",
                    "data": {
                        "text/html": "Created test subscription with ID: 1"
                    },
                    "metadata": {}
                },
                {
                    "output_type": "display_data",
                    "data": {
                        "text/html": "Subscription creation test: PASSED"
                    },
                    "metadata": {}
                },
                {
                    "output_type": "display_data",
                    "data": {
                        "text/html": "Total execution time: 00:00:00.037"
                    },
                    "metadata": {}
                }
            ],
            "execution_count": 6
        },
        {
            "cell_type": "markdown",
            "source": [
                "4\\. Test transaction"
            ],
            "metadata": {
                "language": "sql",
                "azdata_cell_guid": "e335179c-837b-4d4d-a64e-70338e8ea32e"
            },
            "attachments": {}
        },
        {
            "cell_type": "code",
            "source": [
                "-- Test Recycling Transaction\n",
                "DECLARE @TestTransactionID INT;\n",
                "DECLARE @MaterialsJSON NVARCHAR(MAX) = '[\n",
                "    {\n",
                "        \"materialCategoryID\": 1,\n",
                "        \"quantity\": 10.5,\n",
                "        \"unit\": \"kg\",\n",
                "        \"pricePerUnit\": 20.00\n",
                "    },\n",
                "    {\n",
                "        \"materialCategoryID\": 2,\n",
                "        \"quantity\": 5.0,\n",
                "        \"unit\": \"kg\",\n",
                "        \"pricePerUnit\": 15.00\n",
                "    }\n",
                "]';\n",
                "\n",
                "-- Execute transaction stored procedure\n",
                "EXEC recycling.usp_RecordRecyclingTransaction\n",
                "    @BusinessID = 1,\n",
                "    @UserID = 1,\n",
                "    @TransactionType = 'PURCHASE',\n",
                "    @PaymentAmount = 285.00,  -- (10.5 * 20.00) + (5.0 * 15.00)\n",
                "    @PaymentCurrency = 'KES',\n",
                "    @Notes = 'Test transaction',\n",
                "    @Materials = @MaterialsJSON;\n",
                "\n",
                "-- Verify transaction\n",
                "SELECT @TestTransactionID = MAX(TransactionID) \n",
                "FROM recycling.MaterialTransaction\n",
                "WHERE BusinessID = 1 AND UserID = 1;\n",
                "\n",
                "IF EXISTS (\n",
                "    SELECT 1 \n",
                "    FROM recycling.RecyclingTransactions \n",
                "    WHERE TransactionID = @TestTransactionID\n",
                ")\n",
                "    PRINT 'Transaction creation test: PASSED'\n",
                "ELSE\n",
                "    THROW 50000, 'Transaction creation test: FAILED', 1;\n",
                "\n",
                "-- Verify transaction materials\n",
                "IF EXISTS (\n",
                "    SELECT 1 \n",
                "    FROM recycling.TransactionMaterials \n",
                "    WHERE TransactionID = @TestTransactionID\n",
                ")\n",
                "    PRINT 'Transaction materials test: PASSED'\n",
                "ELSE\n",
                "    THROW 50000, 'Transaction materials test: FAILED', 1; "
            ],
            "metadata": {
                "language": "sql",
                "azdata_cell_guid": "e8ed705d-d8ca-4529-8812-954badc6700e"
            },
            "outputs": [
                {
                    "output_type": "error",
                    "evalue": "Msg 208, Level 16, State 1, Procedure recycling.usp_RecordRecyclingTransaction, Line 19\nInvalid object name 'recycling.RecyclingTransactions'.",
                    "ename": "",
                    "traceback": []
                },
                {
                    "output_type": "error",
                    "evalue": "Msg 266, Level 16, State 2, Procedure recycling.usp_RecordRecyclingTransaction, Line 19\nTransaction count after EXECUTE indicates a mismatching number of BEGIN and COMMIT statements. Previous count = 0, current count = 1.",
                    "ename": "",
                    "traceback": []
                },
                {
                    "output_type": "error",
                    "evalue": "Msg 208, Level 16, State 1, Line 29\nInvalid object name 'recycling.RecyclingTransactions'.",
                    "ename": "",
                    "traceback": []
                },
                {
                    "output_type": "display_data",
                    "data": {
                        "text/html": "Total execution time: 00:00:00.032"
                    },
                    "metadata": {}
                }
            ],
            "execution_count": 9
        }
    ]
}